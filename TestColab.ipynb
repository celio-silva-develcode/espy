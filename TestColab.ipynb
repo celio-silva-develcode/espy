{
  "nbformat": 4,
  "nbformat_minor": 0,
  "metadata": {
    "colab": {
      "provenance": []
    },
    "kernelspec": {
      "name": "python3",
      "display_name": "Python 3"
    },
    "language_info": {
      "name": "python"
    }
  },
  "cells": [
    {
      "cell_type": "markdown",
      "source": [
        "# Instalações\n",
        "Conector do MySQL pela GCP"
      ],
      "metadata": {
        "id": "dVf18aS47DCi"
      }
    },
    {
      "cell_type": "code",
      "source": [
        "# install dependencies\n",
        "import sys\n",
        "!{sys.executable} -m pip install cloud-sql-python-connector[\"pymysql\"] SQLAlchemy==2.0.7"
      ],
      "metadata": {
        "colab": {
          "base_uri": "https://localhost:8080/"
        },
        "id": "65KyIBYa7aL9",
        "outputId": "d00bf8ac-2da1-4374-daf4-5b407aa166ac"
      },
      "execution_count": 13,
      "outputs": [
        {
          "output_type": "stream",
          "name": "stdout",
          "text": [
            "Requirement already satisfied: SQLAlchemy==2.0.7 in /usr/local/lib/python3.10/dist-packages (2.0.7)\n",
            "Requirement already satisfied: cloud-sql-python-connector[pymysql] in /usr/local/lib/python3.10/dist-packages (1.15.0)\n",
            "Requirement already satisfied: typing-extensions>=4.2.0 in /usr/local/lib/python3.10/dist-packages (from SQLAlchemy==2.0.7) (4.12.2)\n",
            "Requirement already satisfied: greenlet!=0.4.17 in /usr/local/lib/python3.10/dist-packages (from SQLAlchemy==2.0.7) (3.1.1)\n",
            "Requirement already satisfied: aiofiles in /usr/local/lib/python3.10/dist-packages (from cloud-sql-python-connector[pymysql]) (24.1.0)\n",
            "Requirement already satisfied: aiohttp in /usr/local/lib/python3.10/dist-packages (from cloud-sql-python-connector[pymysql]) (3.11.9)\n",
            "Requirement already satisfied: cryptography>=42.0.0 in /usr/local/lib/python3.10/dist-packages (from cloud-sql-python-connector[pymysql]) (43.0.3)\n",
            "Requirement already satisfied: dnspython>=2.0.0 in /usr/local/lib/python3.10/dist-packages (from cloud-sql-python-connector[pymysql]) (2.7.0)\n",
            "Requirement already satisfied: Requests in /usr/local/lib/python3.10/dist-packages (from cloud-sql-python-connector[pymysql]) (2.32.3)\n",
            "Requirement already satisfied: google-auth>=2.28.0 in /usr/local/lib/python3.10/dist-packages (from cloud-sql-python-connector[pymysql]) (2.36.0)\n",
            "Requirement already satisfied: PyMySQL>=1.1.0 in /usr/local/lib/python3.10/dist-packages (from cloud-sql-python-connector[pymysql]) (1.1.1)\n",
            "Requirement already satisfied: cffi>=1.12 in /usr/local/lib/python3.10/dist-packages (from cryptography>=42.0.0->cloud-sql-python-connector[pymysql]) (1.17.1)\n",
            "Requirement already satisfied: cachetools<6.0,>=2.0.0 in /usr/local/lib/python3.10/dist-packages (from google-auth>=2.28.0->cloud-sql-python-connector[pymysql]) (5.5.0)\n",
            "Requirement already satisfied: pyasn1-modules>=0.2.1 in /usr/local/lib/python3.10/dist-packages (from google-auth>=2.28.0->cloud-sql-python-connector[pymysql]) (0.4.1)\n",
            "Requirement already satisfied: rsa<5,>=3.1.4 in /usr/local/lib/python3.10/dist-packages (from google-auth>=2.28.0->cloud-sql-python-connector[pymysql]) (4.9)\n",
            "Requirement already satisfied: aiohappyeyeballs>=2.3.0 in /usr/local/lib/python3.10/dist-packages (from aiohttp->cloud-sql-python-connector[pymysql]) (2.4.4)\n",
            "Requirement already satisfied: aiosignal>=1.1.2 in /usr/local/lib/python3.10/dist-packages (from aiohttp->cloud-sql-python-connector[pymysql]) (1.3.1)\n",
            "Requirement already satisfied: async-timeout<6.0,>=4.0 in /usr/local/lib/python3.10/dist-packages (from aiohttp->cloud-sql-python-connector[pymysql]) (4.0.3)\n",
            "Requirement already satisfied: attrs>=17.3.0 in /usr/local/lib/python3.10/dist-packages (from aiohttp->cloud-sql-python-connector[pymysql]) (24.2.0)\n",
            "Requirement already satisfied: frozenlist>=1.1.1 in /usr/local/lib/python3.10/dist-packages (from aiohttp->cloud-sql-python-connector[pymysql]) (1.5.0)\n",
            "Requirement already satisfied: multidict<7.0,>=4.5 in /usr/local/lib/python3.10/dist-packages (from aiohttp->cloud-sql-python-connector[pymysql]) (6.1.0)\n",
            "Requirement already satisfied: propcache>=0.2.0 in /usr/local/lib/python3.10/dist-packages (from aiohttp->cloud-sql-python-connector[pymysql]) (0.2.1)\n",
            "Requirement already satisfied: yarl<2.0,>=1.17.0 in /usr/local/lib/python3.10/dist-packages (from aiohttp->cloud-sql-python-connector[pymysql]) (1.18.3)\n",
            "Requirement already satisfied: charset-normalizer<4,>=2 in /usr/local/lib/python3.10/dist-packages (from Requests->cloud-sql-python-connector[pymysql]) (3.4.0)\n",
            "Requirement already satisfied: idna<4,>=2.5 in /usr/local/lib/python3.10/dist-packages (from Requests->cloud-sql-python-connector[pymysql]) (3.10)\n",
            "Requirement already satisfied: urllib3<3,>=1.21.1 in /usr/local/lib/python3.10/dist-packages (from Requests->cloud-sql-python-connector[pymysql]) (2.2.3)\n",
            "Requirement already satisfied: certifi>=2017.4.17 in /usr/local/lib/python3.10/dist-packages (from Requests->cloud-sql-python-connector[pymysql]) (2024.8.30)\n",
            "Requirement already satisfied: pycparser in /usr/local/lib/python3.10/dist-packages (from cffi>=1.12->cryptography>=42.0.0->cloud-sql-python-connector[pymysql]) (2.22)\n",
            "Requirement already satisfied: pyasn1<0.7.0,>=0.4.6 in /usr/local/lib/python3.10/dist-packages (from pyasn1-modules>=0.2.1->google-auth>=2.28.0->cloud-sql-python-connector[pymysql]) (0.6.1)\n"
          ]
        }
      ]
    },
    {
      "cell_type": "markdown",
      "source": [
        "## Autenticando na GCP\n",
        "Para acessar por dentro do google o MySQL vamos autenticar usando o auth do colab/google.\n",
        "Vai pedir permissão e talvez tenha que logar de novo."
      ],
      "metadata": {
        "id": "u6d9-nr7HAw0"
      }
    },
    {
      "cell_type": "code",
      "source": [
        "from google.colab import auth\n",
        "auth.authenticate_user()"
      ],
      "metadata": {
        "id": "dsX_zh3898Qi"
      },
      "execution_count": 14,
      "outputs": []
    },
    {
      "cell_type": "markdown",
      "source": [
        "## Parametros Produção\n",
        "Na esquerda tem um vault, ali deve ser defina as variaves com dados sensiveis:\n",
        "\n",
        "\n",
        "*   USER_MYSQL_PRD\n",
        "*   PASSWORD_MYSQL_PRD\n",
        "*   USER_MYSQL_DEV\n",
        "*   PASSWORD_MYSQL_PRD\n",
        "\n",
        "Vamos executar produção primeiro, pois no automatico a celula de dev vai substituir os valores."
      ],
      "metadata": {
        "id": "7E1tqX1OHVWU"
      }
    },
    {
      "cell_type": "code",
      "source": [
        "#produção\n",
        "from google.colab import userdata# isso é o vault do notebook, esquerda\n",
        "DB_USER = userdata.get('USER_MYSQL_PRD')\n",
        "DB_PASS = userdata.get('PASSWORD_MYSQL_PRD')\n",
        "DB_NAME = \"lmbr_prd_core\"\n",
        "\n",
        "project_id = \"lmbr-instala-prd-brlm\"\n",
        "region = \"southamerica-east1\"\n",
        "instance_name = \"lmbr-instala-prd\""
      ],
      "metadata": {
        "id": "dXuk-kNbF1RI"
      },
      "execution_count": 15,
      "outputs": []
    },
    {
      "cell_type": "markdown",
      "source": [
        "## Parametros Dev\n",
        "Execução default, para evitar acidentes."
      ],
      "metadata": {
        "id": "QyNo7liNH19N"
      }
    },
    {
      "cell_type": "code",
      "source": [
        "#dev\n",
        "from google.colab import userdata# isso é o vault do notebook, esquerda\n",
        "DB_USER = userdata.get('USER_MYSQL_DEV')\n",
        "DB_PASS = userdata.get('PASSWORD_MYSQL_DEV')\n",
        "DB_NAME = \"lmbr_dev_core\"\n",
        "\n",
        "project_id = \"lmbr-instala-dev-brlm\"\n",
        "region = \"southamerica-east1\"\n",
        "instance_name = \"lmbr-instala-dev-new\""
      ],
      "metadata": {
        "id": "0FOq_dpfF5Nh"
      },
      "execution_count": 16,
      "outputs": []
    },
    {
      "cell_type": "code",
      "source": [
        "# initialize parameters\n",
        "\n",
        "INSTANCE_CONNECTION_NAME = f\"{project_id}:{region}:{instance_name}\" # i.e demo-project:us-central1:demo-instance\n",
        "print(f\"Your instance connection name is: {INSTANCE_CONNECTION_NAME}\")"
      ],
      "metadata": {
        "colab": {
          "base_uri": "https://localhost:8080/"
        },
        "id": "zjHi0vGa7gdo",
        "outputId": "7cf5a663-d3e9-4cab-d1b6-a76fe64d1284"
      },
      "execution_count": 17,
      "outputs": [
        {
          "output_type": "stream",
          "name": "stdout",
          "text": [
            "Your instance connection name is: lmbr-instala-dev-brlm:southamerica-east1:lmbr-instala-dev-new\n"
          ]
        }
      ]
    },
    {
      "cell_type": "markdown",
      "source": [
        "## Configurando conexao\n",
        "[Copiei daqui](https://colab.research.google.com/github/GoogleCloudPlatform/cloud-sql-python-connector/blob/main/samples/notebooks/mysql_python_connector.ipynb)\n"
      ],
      "metadata": {
        "id": "CcmmQdg2IA0C"
      }
    },
    {
      "cell_type": "code",
      "source": [
        "\n",
        "from google.cloud.sql.connector import Connector\n",
        "import sqlalchemy\n",
        "\n",
        "\n",
        "# initialize Connector object\n",
        "connector = Connector()\n",
        "\n",
        "# function to return the database connection object\n",
        "def getconn():\n",
        "    conn = connector.connect(\n",
        "        INSTANCE_CONNECTION_NAME,\n",
        "        \"pymysql\",\n",
        "        user=DB_USER,\n",
        "        password=DB_PASS,\n",
        "        db=DB_NAME\n",
        "    )\n",
        "    return conn\n",
        "\n",
        "# create connection pool with 'creator' argument to our connection object function\n",
        "pool = sqlalchemy.create_engine(\n",
        "    \"mysql+pymysql://\",\n",
        "    creator=getconn,\n",
        ")"
      ],
      "metadata": {
        "id": "mVWkuKXH7g6W"
      },
      "execution_count": 18,
      "outputs": []
    },
    {
      "cell_type": "markdown",
      "source": [
        "## Funções\n",
        "Vamos criar a update e select, para executar as operações de forçar update dos itens e select para percorrer a base de dados."
      ],
      "metadata": {
        "id": "Bych6mamIMvV"
      }
    },
    {
      "cell_type": "code",
      "source": [
        "import pandas as pd\n",
        "\n",
        "def update(data):\n",
        "  oss = \",\".join(map(str, data))\n",
        "  print(\"Updating \", oss)\n",
        "  # connect to connection pool\n",
        "  with pool.connect() as db_conn:\n",
        "    db_conn.execute(sqlalchemy.text(\"update servc_ord_evnt set priv_last_updt = now() where  SERVC_ORD_EVNT_SEQ in (\" + str(oss) + \")\"))\n",
        "    db_conn.commit()\n",
        "  return data\n",
        "\n",
        "def select(sqlStr):\n",
        "  # connect to connection pool\n",
        "  with pool.connect() as db_conn:\n",
        "    # query and fetch ratings table\n",
        "    results = db_conn.execute(sqlalchemy.text(sqlStr)).fetchall()\n",
        "\n",
        "    return pd.DataFrame(results)\n",
        "\n",
        "# start last with min\n",
        "#lastSequence = select(\"select min(SERVC_ORD_EVNT_SEQ) as mn from servc_ord_evnt where SERVC_ORD_EVNT_STUS_IND = '72'\").iloc[0,0]\n",
        "#print(\"Menor evento 72\", lastSequence)\n",
        "#lastSequence = lastSequence - 1\n",
        "updated = []\n",
        "lastSequence = select(\"select min(SERVC_ORD_EVNT_SEQ) as mn from servc_ord_evnt where SERVC_ORD_EVNT_STUS_IND = '72'\").iloc[0,0]\n"
      ],
      "metadata": {
        "id": "DfQv_Bmb7oJY"
      },
      "execution_count": 19,
      "outputs": []
    },
    {
      "cell_type": "markdown",
      "source": [
        "### Arrumador\n",
        "Isso vai percorrer a tabela de 5000 por vez\n",
        "Se tiver eventos 72 ele manda atualizar\n",
        "No fim ele pega o maior id de evento para buscar a proxima janela."
      ],
      "metadata": {
        "id": "SAnZ7hnjIaKo"
      }
    },
    {
      "cell_type": "code",
      "source": [
        "size = 1\n",
        "\n",
        "while size > 0:\n",
        "  janela = select(\"\"\"\n",
        "  select SERVC_ORD_EVNT_SEQ,SERVC_ORD_EVNT_STUS_IND,priv_last_updt\n",
        "  from servc_ord_evnt\n",
        "  WHERE SERVC_ORD_EVNT_SEQ > \"\"\" + str(lastSequence) + \"\"\"\n",
        "  order by SERVC_ORD_EVNT_SEQ limit 5000\n",
        "  \"\"\")\n",
        "  size = len(janela)\n",
        "  toUpdate = []\n",
        "  for i, v in janela.iterrows():\n",
        "    if v['SERVC_ORD_EVNT_STUS_IND'] == \"72\":\n",
        "      toUpdate.append(v['SERVC_ORD_EVNT_SEQ'])\n",
        "    lastSequence = v['SERVC_ORD_EVNT_SEQ']\n",
        "  # dont call update when empty\n",
        "  if len(toUpdate) > 0:\n",
        "    updated = updated + update(toUpdate)\n",
        "\n",
        "\n",
        "print(lastSequence)\n",
        "print(\"Updated\", len(updated))"
      ],
      "metadata": {
        "colab": {
          "base_uri": "https://localhost:8080/"
        },
        "id": "vTZ0D_cb-c4P",
        "outputId": "eae1b40c-76d1-4458-a7ef-a40910e20aaf"
      },
      "execution_count": 20,
      "outputs": [
        {
          "output_type": "stream",
          "name": "stdout",
          "text": [
            "Updating  3849014\n",
            "Updating  3854517,3854718,3855475,3855485\n",
            "Updating  3856100,3857407,3857409,3857716,3860366,3860367,3860590,3860664\n",
            "Updating  3861133,3861153,3861244,3861549,3861568,3861684,3861685,3861706,3861707,3861732,3861785,3861817,3861849,3861872,3861927,3861953,3861983,3862029,3862247,3862304,3862362,3862469,3862762,3862793,3862817,3862931,3862964,3862965,3862967,3862968,3862969,3862970,3862987,3862989,3863048,3863081,3863118,3863139,3863142,3863167,3863195,3863311,3863546,3863561,3863562,3863563,3863564,3863565,3863568,3863570,3863573,3863598,3863725,3863756,3863794,3863817,3863836,3863864,3863951,3863970,3863971,3864003,3864027,3864054,3864118,3864139,3864185,3864276,3864362,3864406,3864437,3864475,3864536,3864537,3864538,3864649,3864676,3864694,3864731,3864753,3864768,3866270,3866298\n",
            "Updating  3867320,3868116,3869854\n",
            "Updating  3873680\n",
            "Updating  3879122,3880500,3880598,3882037,3882211,3882481\n",
            "Updating  3883571,3883629,3883698,3884119,3884152,3884172,3884189,3884211,3884236,3884263,3884311,3887512,3888783\n",
            "Updating  3890012,3891854\n",
            "Updating  3898898\n",
            "Updating  3907685\n",
            "Updating  3913775,3913809,3914549\n",
            "Updating  3916943,3918380\n",
            "Updating  3931080\n",
            "Updating  3957484\n",
            "Updating  3982450\n",
            "Updating  3987614,3987927,3987942,3987997,3988002,3988015,3988059,3988148,3988161,3988201,3988212,3988218,3988219,3988220,3988307,3988320,3988330,3988342,3988347,3988428,3988432,3988436,3988447,3988452,3988458,3988489,3988498,3988514,3988519,3988527,3988545,3988567,3988569,3988598,3988624,3988636,3988695,3988712,3988729,3988737,3988738,3988740,3988754,3988772,3988774,3988838,3988843,3988866,3988869,3988881,3988883,3988895,3988906,3989069,3989077,3989084,3989122,3989204,3989211,3989215\n",
            "Updating  3995832,3995835,3995844,3996003,3996728,3996753,3996756\n",
            "Updating  4006703,4006738,4007026\n",
            "Updating  4007260,4007262,4007264,4007275,4007309,4007368,4007370,4007372,4007381,4007400,4007413,4007425,4007449,4007452,4007454,4007461,4007470,4007472,4007479,4007485,4007492,4007907,4007928,4008501,4011861,4011952,4012057,4012064,4012144,4012205\n",
            "Updating  4012484,4012805,4012808,4012818,4012821,4012858,4012861,4012864,4012867,4012917,4013092,4013656,4014510,4014627,4014645,4014650,4014651,4014755,4014756,4014763,4014783,4014795,4014800,4014810,4014814\n",
            "Updating  4022329,4022480,4022485,4022487\n",
            "Updating  4022736,4022766,4022776,4022795,4025882\n",
            "Updating  4028970,4029326,4029354,4029460,4029590,4029625,4030057,4030831,4030837,4030856,4030886,4030926,4030933,4030935,4030936,4030940,4030953,4030955,4030972,4030976,4030983,4030999,4031017,4031035,4031047,4031061,4031176,4031178,4031305,4031318,4031326,4031352,4031353,4031356,4031367,4031383,4031391,4031399,4031410,4032283\n",
            "Updating  4040238,4040293,4040295\n",
            "Updating  4044535,4044607,4044609,4044611,4045343,4045357,4045359,4045361,4045363,4045500,4047008,4047010,4047014,4047016,4047018,4047025,4047027,4047103,4047868,4047895,4048014\n",
            "Updating  4048318,4048331,4048414,4048416,4048425,4048432,4048788,4048844,4048846,4048848,4048850,4048852,4048854,4048872,4048874,4048876,4048878,4049133,4049135,4049150,4049159,4049161,4049167,4049171,4049178,4049188,4049209,4049215,4049226,4049244,4049246,4049263,4049265,4049267,4049269\n",
            "Updating  4054010,4057171,4057238,4057241,4057603,4057622,4057629,4057643,4057652,4057686,4057872,4057953\n",
            "Updating  4058351,4058355,4058473,4059265,4059271,4059283,4059293,4059314,4059520,4059522,4059528,4059534,4059538,4059546,4059569,4059571,4059573,4059576,4059578,4059580,4059582,4059584,4059586,4059591,4059602,4059604,4059634,4059668,4061397,4061479,4061481,4061483,4061547,4061549,4061551,4061553,4061555,4061557,4062138,4062140,4062142,4062148,4062205,4062279,4062675,4062713,4062862,4062864,4062866,4062868,4062911,4062913,4062915,4062949,4062951,4062953,4062955,4062957,4062959,4062961,4062963,4062965,4062967,4062969,4062971,4062988,4062990,4062992,4063002,4063008,4063015,4063017,4063019,4063021,4063036,4063038,4063138\n",
            "Updating  4063368,4063374,4063378,4064041,4064065,4065224,4065461,4065931,4065933,4065935,4065947,4065960,4065962,4065964,4065966,4065976,4065978,4066060,4066498,4066762,4066765,4066786,4066788,4066790,4066792,4066794,4066808,4066816,4066820,4066822,4066855,4066873,4066875,4066877,4066904,4066913,4066915,4066919,4066921,4066932,4066943,4066948,4066974,4066986,4066988,4066993,4066997,4066999,4067001,4067003,4067005,4067013,4067021,4067025,4067037,4067039,4067041,4067043,4067045,4067047,4067049,4067057,4067067,4067069,4067071,4067073,4067076,4067095,4067097,4067099,4067101,4067103,4067119,4067270,4067275,4067329,4067335,4067345,4067347,4067349,4067364,4067375,4067390,4067409,4067413,4067424,4067436,4067449,4067451,4067466,4067471,4067473,4067475,4067490,4067493,4067495,4067498,4067502,4067516,4067518,4067520,4067522,4067524,4067526,4067528,4067634,4067666,4067673,4067675,4067677,4067679,4067681,4067685,4067699,4067714,4067716,4067718,4067720,4067722,4067750,4067752,4067845,4067855,4068180,4068182\n",
            "Updating  4070927,4073042,4073045,4073122\n",
            "Updating  4079718,4079929,4079994,4080672,4080703,4080705,4080725,4081345,4081408,4082201,4082263,4082529\n",
            "Updating  4101987,4101999,4102002,4102004,4102006,4102588,4102597,4102639,4102641,4102658,4102668,4102683,4102803,4102805\n",
            "Updating  4103596,4106712,4106736,4106771,4106802,4106872,4106886,4106901,4107151,4108021,4108042,4108057,4108070,4108099,4108110,4108113,4108122,4108125,4108134,4108137,4108140,4108152,4108155,4108166,4108182,4108212,4108215,4108228,4108231\n",
            "Updating  4108363,4108366,4108375,4108387,4108409,4108433,4108436,4108502,4108505,4108508,4108511,4108514,4108517,4108520,4108527,4108536,4108539,4108543,4109503,4111098,4111111,4111346,4111479,4113249\n",
            "Updating  4150756\n",
            "Updating  4161505,4161507,4161509,4161511\n",
            "Updating  4173000\n",
            "Updating  4173386,4174964,4175161,4175163,4175167,4175169,4175193,4175195,4175504,4175537,4175539,4175556,4178117\n",
            "Updating  4180148,4180559,4180585,4180918,4181190,4181262,4181264,4181607,4181624\n",
            "Updating  4200010,4200031,4200042,4200052,4200058,4200062,4200100,4200119,4200176,4200190,4200198,4200203,4200208,4200325,4200447,4200482,4200503,4200515,4200530,4200707,4200851,4200859,4200864,4200870,4200924,4201121,4201262,4201268,4201272,4201278,4201416,4201418,4201420,4201429,4203159,4203162,4203215,4203221,4203230\n",
            "Updating  4203307,4203375,4203380,4203385,4203428,4203432,4203438,4203442,4203506,4203558,4203853,4203870,4204252,4204361,4204377,4204379,4204381,4204500,4204529,4204535,4204537,4204539,4204657,4204659,4204678,4204701,4204722,4205010,4205021,4205029,4205031\n",
            "Updating  4239571,4240172,4240415,4240582,4240621,4240780\n",
            "Updating  4254890,4254892\n",
            "Updating  4263099\n",
            "Updating  4285865,4285867,4286401\n",
            "Updating  4292720,4292771,4292996,4293006,4293036,4293045,4293061,4293108,4293238\n",
            "Updating  4294551,4298203,4298340,4298342,4298381,4298423,4298433,4298443,4298452\n",
            "Updating  4305251,4305260,4305262,4305289,4305540\n",
            "Updating  4308755,4310229\n",
            "Updating  4316046,4316048\n",
            "Updating  4337114\n",
            "Updating  4343514,4343598,4343959\n",
            "Updating  4349080,4349257,4349301,4349317,4349331,4349397,4349399,4349401,4349403,4349405,4349407,4349409,4349411,4349413,4349439,4349520,4353186,4353247,4353479\n",
            "Updating  4353548,4354283,4354416,4354418,4354420,4354995,4355017,4355034,4355050,4355075,4355088,4355128,4355377,4355540,4355636,4355755,4355781,4356408,4357696\n",
            "Updating  4358553,4358589,4358745,4358747,4358749\n",
            "4361950\n",
            "Updated 845\n"
          ]
        }
      ]
    },
    {
      "cell_type": "code",
      "source": [
        "print(lastSequence) #42004949\n",
        "print(\"Updated\", len(updated)) #255821 de 42002844\n"
      ],
      "metadata": {
        "colab": {
          "base_uri": "https://localhost:8080/"
        },
        "id": "2LVlOwOyyr5X",
        "outputId": "c4c7f5f5-d5b3-423e-ab13-ace423435adb"
      },
      "execution_count": 11,
      "outputs": [
        {
          "output_type": "stream",
          "name": "stdout",
          "text": [
            "4361943\n",
            "Updated 845\n"
          ]
        }
      ]
    },
    {
      "cell_type": "markdown",
      "source": [
        "## Extração\n",
        "O codigo salva em um arquivo a lista transformada em dataframe.\n",
        "Depois força o download do arquivo para a maquina local."
      ],
      "metadata": {
        "id": "a9uXd6lTqKrb"
      }
    },
    {
      "cell_type": "code",
      "source": [
        "from google.colab import files\n",
        "updatedDF = pd.DataFrame(updated)\n",
        "updatedDF.to_csv(\"updated2.csv\")\n",
        "files.download('updated2.csv')"
      ],
      "metadata": {
        "id": "T_hy_DNUJxMl",
        "colab": {
          "base_uri": "https://localhost:8080/",
          "height": 17
        },
        "outputId": "5d30fbf4-2e08-4d7a-f664-9b4277a1a537"
      },
      "execution_count": 12,
      "outputs": [
        {
          "output_type": "display_data",
          "data": {
            "text/plain": [
              "<IPython.core.display.Javascript object>"
            ],
            "application/javascript": [
              "\n",
              "    async function download(id, filename, size) {\n",
              "      if (!google.colab.kernel.accessAllowed) {\n",
              "        return;\n",
              "      }\n",
              "      const div = document.createElement('div');\n",
              "      const label = document.createElement('label');\n",
              "      label.textContent = `Downloading \"${filename}\": `;\n",
              "      div.appendChild(label);\n",
              "      const progress = document.createElement('progress');\n",
              "      progress.max = size;\n",
              "      div.appendChild(progress);\n",
              "      document.body.appendChild(div);\n",
              "\n",
              "      const buffers = [];\n",
              "      let downloaded = 0;\n",
              "\n",
              "      const channel = await google.colab.kernel.comms.open(id);\n",
              "      // Send a message to notify the kernel that we're ready.\n",
              "      channel.send({})\n",
              "\n",
              "      for await (const message of channel.messages) {\n",
              "        // Send a message to notify the kernel that we're ready.\n",
              "        channel.send({})\n",
              "        if (message.buffers) {\n",
              "          for (const buffer of message.buffers) {\n",
              "            buffers.push(buffer);\n",
              "            downloaded += buffer.byteLength;\n",
              "            progress.value = downloaded;\n",
              "          }\n",
              "        }\n",
              "      }\n",
              "      const blob = new Blob(buffers, {type: 'application/binary'});\n",
              "      const a = document.createElement('a');\n",
              "      a.href = window.URL.createObjectURL(blob);\n",
              "      a.download = filename;\n",
              "      div.appendChild(a);\n",
              "      a.click();\n",
              "      div.remove();\n",
              "    }\n",
              "  "
            ]
          },
          "metadata": {}
        },
        {
          "output_type": "display_data",
          "data": {
            "text/plain": [
              "<IPython.core.display.Javascript object>"
            ],
            "application/javascript": [
              "download(\"download_f60e4ba7-3b3b-4d18-b161-04f61ce97be2\", \"updated2.csv\", 10033)"
            ]
          },
          "metadata": {}
        }
      ]
    },
    {
      "cell_type": "code",
      "source": [
        "import json\n",
        "\n",
        "# a Python object (dict):\n",
        "x = {\n",
        "  \"name\": \"John\",\n",
        "  \"age\": 30,\n",
        "  \"city\": \"New York\"\n",
        "}\n",
        "\n",
        "# convert into JSON:\n",
        "y = json.dumps(x)\n",
        "\n",
        "# the result is a JSON string:\n",
        "print(y)"
      ],
      "metadata": {
        "colab": {
          "base_uri": "https://localhost:8080/"
        },
        "id": "28fxwZ24SKnY",
        "outputId": "a8a0b7cb-085d-4d2c-e609-afb601b636fa"
      },
      "execution_count": null,
      "outputs": [
        {
          "output_type": "stream",
          "name": "stdout",
          "text": [
            "{\"name\": \"John\", \"age\": 30, \"city\": \"New York\"}\n"
          ]
        }
      ]
    },
    {
      "cell_type": "markdown",
      "source": [
        "## Conferencia\n",
        "//TODO conectar pela GCP"
      ],
      "metadata": {
        "id": "2rCyRWW_qZC9"
      }
    }
  ]
}