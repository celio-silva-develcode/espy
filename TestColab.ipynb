from google.colab import userdata# isso é o vault do notebook, esquerda

user = userdata.get('USER_ELASTIC_DEV')
password = userdata.get('PASSWORD_ELASTIC_DEV')
